{
 "cells": [
  {
   "cell_type": "code",
   "execution_count": 1,
   "metadata": {},
   "outputs": [
    {
     "name": "stderr",
     "output_type": "stream",
     "text": [
      "/opt/conda/lib/python3.6/site-packages/statsmodels/compat/pandas.py:56: FutureWarning: The pandas.core.datetools module is deprecated and will be removed in a future version. Please use the pandas.tseries module instead.\n",
      "  from pandas.core import datetools\n"
     ]
    }
   ],
   "source": [
    "import numpy as np\n",
    "import pandas as pd\n",
    "from sklearn.feature_extraction.text import CountVectorizer,TfidfTransformer\n",
    "from sklearn.pipeline import Pipeline, FeatureUnion\n",
    "from sklearn.model_selection import train_test_split, cross_val_score, cross_val_predict\n",
    "from sklearn.metrics import accuracy_score, precision_score, confusion_matrix, classification_report\n",
    "from sklearn.linear_model import LogisticRegression, LinearRegression\n",
    "from sklearn import svm, linear_model\n",
    "\n",
    "from sklearn.model_selection import cross_val_score, GridSearchCV\n",
    "from sklearn.neighbors import KNeighborsClassifier, KNeighborsRegressor\n",
    "from sklearn.preprocessing import StandardScaler,PolynomialFeatures, LabelEncoder,FunctionTransformer\n",
    "import matplotlib.pyplot as plt\n",
    "import pandas as pd\n",
    "import seaborn as sns\n",
    "import statsmodels.api as sm\n",
    "import numpy as np\n",
    "from scipy import stats\n",
    "%matplotlib inline\n",
    "titanic = pd.read_csv('train.csv')\n",
    "testdf = pd.read_csv('test.csv')\n",
    "import pandas as pd\n",
    "from sklearn.pipeline import Pipeline, FeatureUnion\n",
    "from sklearn.preprocessing import FunctionTransformer\n",
    "from sklearn.model_selection import GridSearchCV\n",
    "from sklearn.ensemble import GradientBoostingClassifier, AdaBoostClassifier\n",
    "from sklearn.decomposition import PCA\n",
    "from sklearn.cluster import KMeans\n",
    "from sklearn.model_selection import StratifiedKFold\n",
    "from sklearn.tree import DecisionTreeClassifier"
   ]
  },
  {
   "cell_type": "code",
   "execution_count": 2,
   "metadata": {
    "collapsed": true
   },
   "outputs": [],
   "source": [
    "testdf.drop('PassengerId', axis=1, inplace=True)\n",
    "titanic.drop('PassengerId', axis=1, inplace=True)"
   ]
  },
  {
   "cell_type": "code",
   "execution_count": 3,
   "metadata": {
    "collapsed": true
   },
   "outputs": [],
   "source": [
    "\n",
    "titanic['FamilyCount']= (titanic['SibSp'])+(titanic['Parch'])\n",
    "titanic['IsFemale'] = (titanic.Sex=='female').astype(int)\n",
    "titanic['IsMale'] = (titanic.Sex=='male').astype(int)\n",
    "testdf['FamilyCount']= (testdf['SibSp'])+(testdf['Parch'])\n",
    "testdf['IsFemale'] = (testdf.Sex=='female').astype(int)\n",
    "testdf['IsMale'] = (testdf.Sex=='male').astype(int)\n",
    "titanic['Cabin'] =titanic['Cabin'].fillna(value='?')\n",
    "titanic['Embarked'] =titanic['Embarked'].fillna(value='S')\n",
    "titanic['Age'] =titanic['Age'].fillna(value='?')\n",
    "testdf['Cabin'] =testdf['Cabin'].fillna(value='?')\n",
    "testdf['Embarked'] =testdf['Embarked'].fillna(value='S')\n",
    "testdf['Age'] =testdf['Age'].fillna(value='?')\n",
    "testdf.loc[152,'Fare']=13.6755"
   ]
  },
  {
   "cell_type": "code",
   "execution_count": 4,
   "metadata": {
    "collapsed": true
   },
   "outputs": [],
   "source": [
    "titanic['IsAlone']= (titanic['FamilyCount']==0).astype(int)\n",
    "testdf['IsAlone']= (testdf['FamilyCount']==0).astype(int)"
   ]
  },
  {
   "cell_type": "code",
   "execution_count": 5,
   "metadata": {
    "collapsed": true
   },
   "outputs": [],
   "source": [
    "def titlepull(title_string):\n",
    "    title_list = title_string.split()\n",
    "    for possible_title in title_list:\n",
    "        if possible_title[-1] == '.':\n",
    "            return possible_title\n",
    "def cabinpull(cabin_string):\n",
    "    if cabin_string[0]=='?':\n",
    "        return '?'\n",
    "    else:\n",
    "        return cabin_string[0]\n",
    "    "
   ]
  },
  {
   "cell_type": "code",
   "execution_count": 6,
   "metadata": {
    "collapsed": true
   },
   "outputs": [],
   "source": [
    "def ticketpull(ticketstring):\n",
    "    if ticketstring == 'LINE':\n",
    "        return 9\n",
    "    string = ticketstring.split(' ')[-1]\n",
    "    return string[0]\n",
    "    "
   ]
  },
  {
   "cell_type": "code",
   "execution_count": 7,
   "metadata": {
    "collapsed": true
   },
   "outputs": [],
   "source": [
    "titanic['Deck']=titanic.Cabin.apply(cabinpull)\n",
    "titanic['Title']= titanic.Name.apply(titlepull)\n",
    "testdf['Deck']=testdf.Cabin.apply(cabinpull)\n",
    "testdf['Title']= testdf.Name.apply(titlepull)\n",
    "titanic['Ticketnum']= titanic.Ticket.apply(ticketpull)\n",
    "testdf['Ticketnum']=testdf.Ticket.apply(ticketpull)\n"
   ]
  },
  {
   "cell_type": "code",
   "execution_count": 8,
   "metadata": {
    "collapsed": true
   },
   "outputs": [],
   "source": [
    "decks_list = ['?','C','B','D','E','F','A','G','T']"
   ]
  },
  {
   "cell_type": "code",
   "execution_count": 9,
   "metadata": {
    "collapsed": true
   },
   "outputs": [],
   "source": [
    "name_mappings = {\n",
    "    'Dona.':'Royalty',\n",
    "    'Countess.':'Royalty',\n",
    "    'Sir.':'Royalty',\n",
    "    'Jonkheer.':'Royalty',\n",
    "    'Don.':'Royalty',\n",
    "    'Lady.':'Royalty',\n",
    "    'Ms.':'Miss.',\n",
    "    'Col.':'Officer',\n",
    "    'Capt.':'Officer',\n",
    "    'Major.':'Officer',\n",
    "    'Col.':'Officer',\n",
    "    'Mlle.':'Miss.',\n",
    "    'Mme.':'Mrs.',\n",
    "    'Mrs.':'Mrs.',\n",
    "    'Miss.':'Miss',\n",
    "    'Mr.':'Mr.',\n",
    "    'Master.':'Master.',\n",
    "    'Dr.':'Dr.',\n",
    "    'Rev.':'Rev.'\n",
    "    \n",
    "    \n",
    "}"
   ]
  },
  {
   "cell_type": "code",
   "execution_count": 10,
   "metadata": {
    "collapsed": true
   },
   "outputs": [],
   "source": [
    "titanic['Title']= titanic['Title'].map(name_mappings)\n",
    "testdf['Title']= testdf['Title'].map(name_mappings)"
   ]
  },
  {
   "cell_type": "code",
   "execution_count": 11,
   "metadata": {
    "collapsed": true
   },
   "outputs": [],
   "source": [
    "validtitles = list(set(name_mappings.values()))\n",
    "titanic.FamilyCount = titanic['FamilyCount'].astype(\"category\", categories=range(11), ordered=False)\n"
   ]
  },
  {
   "cell_type": "code",
   "execution_count": 12,
   "metadata": {
    "collapsed": true
   },
   "outputs": [],
   "source": [
    "testdf.FamilyCount = testdf['FamilyCount'].astype(\"category\", categories=range(11), ordered=False)\n",
    "titanic.Title = titanic['Title'].astype(\"category\", categories=validtitles, ordered=False)\n",
    "testdf.Title = testdf['Title'].astype(\"category\", categories=validtitles, ordered=False)\n",
    "titanic.Deck = titanic['Deck'].astype(\"category\", categories=decks_list, ordered=False)\n",
    "testdf.Deck = testdf['Deck'].astype(\"category\", categories=decks_list, ordered=False)\n",
    "kmg = KMeans()\n",
    "\n",
    "def numeric_features(df):\n",
    "    return df.select_dtypes(exclude= ['object','category'])\n",
    "kmg.fit(numeric_features(titanic.drop('Survived', axis=1)))\n",
    "titanic['cluster'] =  kmg.predict(numeric_features(titanic.drop('Survived', axis=1)))\n",
    "testdf['cluster'] = kmg.predict(numeric_features(testdf))\n",
    "\n",
    "numeric_features_tf = FunctionTransformer(numeric_features, validate=False)"
   ]
  },
  {
   "cell_type": "code",
   "execution_count": 13,
   "metadata": {},
   "outputs": [
    {
     "data": {
      "text/plain": [
       "Index(['Pclass', 'Name', 'Sex', 'Age', 'SibSp', 'Parch', 'Ticket', 'Fare',\n",
       "       'Cabin', 'Embarked', 'FamilyCount', 'IsFemale', 'IsMale', 'IsAlone',\n",
       "       'Deck', 'Title', 'Ticketnum', 'cluster'],\n",
       "      dtype='object')"
      ]
     },
     "execution_count": 13,
     "metadata": {},
     "output_type": "execute_result"
    }
   ],
   "source": [
    "testdf.columns"
   ]
  },
  {
   "cell_type": "code",
   "execution_count": 14,
   "metadata": {
    "collapsed": true
   },
   "outputs": [],
   "source": [
    "age_transformers = [('numfeat' ,numeric_features_tf)]"
   ]
  },
  {
   "cell_type": "code",
   "execution_count": 15,
   "metadata": {
    "collapsed": true
   },
   "outputs": [],
   "source": [
    "fu_age_impute = FeatureUnion(age_transformers)"
   ]
  },
  {
   "cell_type": "code",
   "execution_count": 16,
   "metadata": {
    "collapsed": true
   },
   "outputs": [],
   "source": [
    "knr = KNeighborsRegressor(n_jobs=-1)\n",
    "lr = LinearRegression()\n",
    "ss = StandardScaler()"
   ]
  },
  {
   "cell_type": "code",
   "execution_count": 17,
   "metadata": {
    "collapsed": true
   },
   "outputs": [],
   "source": [
    "age_impute_pipe_lr =  Pipeline(\n",
    "    [\n",
    "        ('fu',fu_age_impute),\n",
    "        ('ss',ss),\n",
    "        ('lr',lr)\n",
    "    ]\n",
    "\n",
    ")\n",
    "age_impute_pipe_kn =  Pipeline(\n",
    "    [\n",
    "        ('fu_age',fu_age_impute),\n",
    "        ('ss',ss),\n",
    "        ('knr',knr)\n",
    "    ]\n",
    "\n",
    ")\n",
    "age_params = {\n",
    "    \n",
    "}\n",
    "age_params2 = {'knr__n_neighbors':range(4,15)\n",
    "    \n",
    "}"
   ]
  },
  {
   "cell_type": "code",
   "execution_count": 18,
   "metadata": {
    "collapsed": true
   },
   "outputs": [],
   "source": [
    "gs_age_kn = GridSearchCV(age_impute_pipe_kn, param_grid=age_params2, cv=5)\n",
    "gs_age_lr = GridSearchCV(age_impute_pipe_lr, param_grid=age_params, cv=5)"
   ]
  },
  {
   "cell_type": "code",
   "execution_count": 19,
   "metadata": {
    "collapsed": true
   },
   "outputs": [],
   "source": [
    "titanic_ages =titanic[(titanic['Age']!='?')]\n",
    "titanic_no_ages = titanic[(titanic['Age']=='?')]\n",
    "\n",
    "test_ages =testdf[(testdf['Age']!='?')]\n",
    "test_no_ages = testdf[(testdf['Age']=='?')]\n"
   ]
  },
  {
   "cell_type": "code",
   "execution_count": 20,
   "metadata": {
    "collapsed": true
   },
   "outputs": [],
   "source": [
    "X_train = titanic_ages.drop(['Age','Survived'],axis=1)\n",
    "y_train= titanic_ages['Age']\n"
   ]
  },
  {
   "cell_type": "code",
   "execution_count": 21,
   "metadata": {
    "collapsed": true
   },
   "outputs": [],
   "source": [
    "X_test1 =titanic_no_ages.drop(['Age','Survived'], axis=1)\n",
    "X_test2 = test_no_ages.drop('Age', axis=1)"
   ]
  },
  {
   "cell_type": "code",
   "execution_count": 22,
   "metadata": {},
   "outputs": [
    {
     "name": "stdout",
     "output_type": "stream",
     "text": [
      "0.197285359444\n"
     ]
    }
   ],
   "source": [
    "gs_age_lr.fit(X_train,y_train)\n",
    "print(gs_age_lr.best_score_)"
   ]
  },
  {
   "cell_type": "code",
   "execution_count": 23,
   "metadata": {},
   "outputs": [
    {
     "name": "stdout",
     "output_type": "stream",
     "text": [
      "0.237595317622\n"
     ]
    }
   ],
   "source": [
    "gs_age_kn.fit(X_train,y_train)\n",
    "print(gs_age_kn.best_score_)"
   ]
  },
  {
   "cell_type": "code",
   "execution_count": 24,
   "metadata": {
    "collapsed": true
   },
   "outputs": [],
   "source": [
    "X_test1['Age'] = gs_age_kn.predict(X_test1)\n",
    "X_test2['Age']= gs_age_kn.predict(X_test2)"
   ]
  },
  {
   "cell_type": "code",
   "execution_count": 25,
   "metadata": {
    "collapsed": true
   },
   "outputs": [],
   "source": [
    "titanic.loc[X_test1.index,'Age'] = X_test1['Age']\n",
    "testdf.loc[X_test2.index,'Age'] = X_test2['Age']"
   ]
  },
  {
   "cell_type": "code",
   "execution_count": 26,
   "metadata": {
    "collapsed": true
   },
   "outputs": [],
   "source": [
    "def ageband(age):\n",
    "    ageband= (int(age)//13)+1\n",
    "    return ageband"
   ]
  },
  {
   "cell_type": "code",
   "execution_count": 27,
   "metadata": {
    "collapsed": true
   },
   "outputs": [],
   "source": [
    "\n",
    "\n",
    "titanic['AgeBand']=titanic.Age.apply(ageband)\n",
    "testdf['AgeBand']=testdf.Age.apply(ageband)"
   ]
  },
  {
   "cell_type": "code",
   "execution_count": 28,
   "metadata": {
    "collapsed": true
   },
   "outputs": [],
   "source": [
    "def findsurname(wife):\n",
    "    if wife[-1]==')':\n",
    "        return wife.split()[0]\n",
    "    \n",
    "def findhusband(wife, husband):\n",
    "    for num in range(len(wife.split())):\n",
    "        if wife.split()[num][-1]=='.':\n",
    "            try:\n",
    "                return (wife.split()[num-1]==husband.split()[num-1])  & (wife.split()[num+1]==husband.split()[num+1])\n",
    "            except:\n",
    "                return False\n",
    "            \n",
    "        #Splitting by gender\n",
    "def dead_husband(wife,husbandlist):\n",
    "    #this takes a wife's name as an argument and a listas the second argument.  it returns a true or false\n",
    "    result= False # assume that the wife did not die\n",
    "    for num in range(len(husbandlist)):\n",
    "        if findhusband(wife, husbandlist[num]):\n",
    "            result = True\n",
    "    return result\n",
    "def dead_wife(husband,wifelist):\n",
    "    result= False # assume that the wife did not die\n",
    "    for num in range(len(wifelist)):\n",
    "        if findhusband(wifelist[num], husband):\n",
    "            result = True\n",
    "    return result\n",
    "            \n",
    "titanicmale=  titanic[titanic['Sex']=='male'] \n",
    "titanicfemale= titanic[titanic['Sex']=='female']\n",
    "testmale=  testdf[testdf['Sex']=='male'] \n",
    "testfemale= testdf[testdf['Sex']=='female']\n"
   ]
  },
  {
   "cell_type": "code",
   "execution_count": 29,
   "metadata": {
    "collapsed": true
   },
   "outputs": [],
   "source": [
    "livemen= titanicmale[titanicmale['Survived']==1]\n",
    "deadmen= titanicmale[titanicmale['Survived']==0]\n",
    "livewomen= titanicfemale[titanicfemale['Survived']==1]\n",
    "deadwomen= titanicfemale[titanicfemale['Survived']==0]\n",
    "deadwomennames= deadwomen.Name.values\n",
    "livewomennames= livewomen.Name.values\n",
    "livemennames = livemen.Name.values\n",
    "deadmennames = deadmen.Name.values"
   ]
  },
  {
   "cell_type": "code",
   "execution_count": 30,
   "metadata": {},
   "outputs": [
    {
     "name": "stderr",
     "output_type": "stream",
     "text": [
      "/opt/conda/lib/python3.6/site-packages/ipykernel_launcher.py:2: SettingWithCopyWarning: \n",
      "A value is trying to be set on a copy of a slice from a DataFrame.\n",
      "Try using .loc[row_indexer,col_indexer] = value instead\n",
      "\n",
      "See the caveats in the documentation: http://pandas.pydata.org/pandas-docs/stable/indexing.html#indexing-view-versus-copy\n",
      "  \n",
      "/opt/conda/lib/python3.6/site-packages/ipykernel_launcher.py:3: SettingWithCopyWarning: \n",
      "A value is trying to be set on a copy of a slice from a DataFrame.\n",
      "Try using .loc[row_indexer,col_indexer] = value instead\n",
      "\n",
      "See the caveats in the documentation: http://pandas.pydata.org/pandas-docs/stable/indexing.html#indexing-view-versus-copy\n",
      "  This is separate from the ipykernel package so we can avoid doing imports until\n",
      "/opt/conda/lib/python3.6/site-packages/ipykernel_launcher.py:4: SettingWithCopyWarning: \n",
      "A value is trying to be set on a copy of a slice from a DataFrame.\n",
      "Try using .loc[row_indexer,col_indexer] = value instead\n",
      "\n",
      "See the caveats in the documentation: http://pandas.pydata.org/pandas-docs/stable/indexing.html#indexing-view-versus-copy\n",
      "  after removing the cwd from sys.path.\n",
      "/opt/conda/lib/python3.6/site-packages/ipykernel_launcher.py:5: SettingWithCopyWarning: \n",
      "A value is trying to be set on a copy of a slice from a DataFrame.\n",
      "Try using .loc[row_indexer,col_indexer] = value instead\n",
      "\n",
      "See the caveats in the documentation: http://pandas.pydata.org/pandas-docs/stable/indexing.html#indexing-view-versus-copy\n",
      "  \"\"\"\n",
      "/opt/conda/lib/python3.6/site-packages/ipykernel_launcher.py:7: SettingWithCopyWarning: \n",
      "A value is trying to be set on a copy of a slice from a DataFrame.\n",
      "Try using .loc[row_indexer,col_indexer] = value instead\n",
      "\n",
      "See the caveats in the documentation: http://pandas.pydata.org/pandas-docs/stable/indexing.html#indexing-view-versus-copy\n",
      "  import sys\n",
      "/opt/conda/lib/python3.6/site-packages/ipykernel_launcher.py:8: SettingWithCopyWarning: \n",
      "A value is trying to be set on a copy of a slice from a DataFrame.\n",
      "Try using .loc[row_indexer,col_indexer] = value instead\n",
      "\n",
      "See the caveats in the documentation: http://pandas.pydata.org/pandas-docs/stable/indexing.html#indexing-view-versus-copy\n",
      "  \n",
      "/opt/conda/lib/python3.6/site-packages/ipykernel_launcher.py:9: SettingWithCopyWarning: \n",
      "A value is trying to be set on a copy of a slice from a DataFrame.\n",
      "Try using .loc[row_indexer,col_indexer] = value instead\n",
      "\n",
      "See the caveats in the documentation: http://pandas.pydata.org/pandas-docs/stable/indexing.html#indexing-view-versus-copy\n",
      "  if __name__ == '__main__':\n",
      "/opt/conda/lib/python3.6/site-packages/ipykernel_launcher.py:10: SettingWithCopyWarning: \n",
      "A value is trying to be set on a copy of a slice from a DataFrame.\n",
      "Try using .loc[row_indexer,col_indexer] = value instead\n",
      "\n",
      "See the caveats in the documentation: http://pandas.pydata.org/pandas-docs/stable/indexing.html#indexing-view-versus-copy\n",
      "  # Remove the CWD from sys.path while we load stuff.\n"
     ]
    }
   ],
   "source": [
    "# lets do women with dead husbands. \n",
    "titanicfemale['Dead_Husband']= titanicfemale.Name.apply(lambda x:  dead_husband(x,deadmennames))\n",
    "titanicfemale['Live_Husband']= titanicfemale.Name.apply(lambda x:  dead_husband(x,livemennames))\n",
    "titanicmale['Dead_Wife']=titanicmale.Name.apply(lambda x:  dead_wife(x,deadwomennames))\n",
    "titanicmale['Live_Wife']=titanicmale.Name.apply(lambda x:  dead_wife(x,livewomennames))\n",
    "# lets do women with dead husbands. \n",
    "testfemale['Dead_Husband']= testfemale.Name.apply(lambda x:  dead_husband(x,deadmennames))\n",
    "testfemale['Live_Husband']= testfemale.Name.apply(lambda x:  dead_husband(x,livemennames))\n",
    "testmale['Dead_Wife']=testmale.Name.apply(lambda x:  dead_wife(x,deadwomennames))\n",
    "testmale['Live_Wife']=testmale.Name.apply(lambda x:  dead_wife(x,livewomennames))"
   ]
  },
  {
   "cell_type": "code",
   "execution_count": 31,
   "metadata": {
    "collapsed": true
   },
   "outputs": [],
   "source": [
    "testdf.loc[testfemale.index,'Dead_Husband']= testfemale['Dead_Husband'].astype(int)\n",
    "\n",
    "testdf.loc[testfemale.index,'Live_Husband']= testfemale['Live_Husband'].astype(int)\n",
    "testdf.loc[testmale.index,'Dead_Wife']= testmale['Dead_Wife'].astype(int)\n",
    "testdf.loc[testmale.index,'Live_Wife']= testmale['Live_Wife'].astype(int)\n",
    "titanic.loc[titanicfemale.index,'Dead_Husband']= titanicfemale['Dead_Husband'].astype(int)\n",
    "titanic.loc[titanicfemale.index,'Live_Husband']= titanicfemale['Live_Husband'].astype(int)\n",
    "titanic.loc[titanicmale.index,'Dead_Wife']= titanicmale['Dead_Wife'].astype(int)\n",
    "titanic.loc[titanicmale.index,'Live_Wife']= titanicmale['Live_Wife'].astype(int)\n",
    "titanic['Dead_Husband'].fillna(value=0, inplace=True)\n",
    "titanic['Dead_Wife'].fillna(value=0, inplace=True)\n",
    "testdf['Dead_Husband'].fillna(value=0, inplace=True)\n",
    "testdf['Dead_Wife'].fillna(value=0, inplace=True)\n",
    "titanic['Live_Husband'].fillna(value=0, inplace=True)\n",
    "titanic['Live_Wife'].fillna(value=0, inplace=True)\n",
    "testdf['Live_Husband'].fillna(value=0, inplace=True)\n",
    "testdf['Live_Wife'].fillna(value=0, inplace=True)"
   ]
  },
  {
   "cell_type": "code",
   "execution_count": 32,
   "metadata": {
    "collapsed": true
   },
   "outputs": [],
   "source": [
    "kmc = KMeans()"
   ]
  },
  {
   "cell_type": "code",
   "execution_count": 33,
   "metadata": {},
   "outputs": [
    {
     "data": {
      "text/plain": [
       "array([4, 3, 4, 7, 4, 4, 7, 0, 4, 0, 4, 0, 4, 0, 4, 4, 0, 4, 4, 4, 0, 4, 4,\n",
       "       0, 0, 0, 4, 5, 4, 4, 0, 1, 4, 4, 3, 7, 4, 4, 4, 4, 4, 0, 4, 7, 4, 4,\n",
       "       4, 4, 0, 4, 0, 4, 3, 0, 7, 0, 4, 4, 0, 7, 4, 3, 3, 0, 0, 4, 4, 4, 4,\n",
       "       4, 4, 7, 3, 4, 7, 4, 4, 4, 0, 4, 4, 4, 4, 7, 4, 4, 0, 4, 5, 4, 4, 4,\n",
       "       7, 0, 4, 4, 0, 7, 0, 0, 4, 4, 3, 4, 4, 4, 4, 4, 4, 0, 7, 4, 4, 4, 4,\n",
       "       4, 4, 0, 5, 0, 3, 4, 0, 4, 3, 4, 4, 4, 0, 4, 4, 4, 4, 0, 4, 4, 0, 7,\n",
       "       4, 3, 4, 4, 4, 4, 4, 0, 4, 0, 0, 4, 4, 3, 4, 4, 4, 7, 4, 4, 4, 3, 4,\n",
       "       4, 4, 4, 0, 0, 7, 0, 0, 7, 0, 0, 4, 4, 0, 4, 0, 0, 4, 4, 3, 4, 0, 0,\n",
       "       0, 7, 4, 0, 4, 4, 4, 4, 4, 0, 0, 1, 4, 4, 4, 4, 4, 3, 4, 4, 4, 4, 4,\n",
       "       0, 4, 0, 4, 0, 4, 4, 4, 6, 4, 0, 3, 4, 4, 4, 4, 4, 3, 4, 4, 4, 4, 0,\n",
       "       3, 4, 4, 0, 4, 4, 0, 0, 4, 4, 4, 4, 4, 4, 4, 3, 4, 4, 7, 0, 4, 4, 0,\n",
       "       4, 0, 4, 3, 3, 2, 0, 4, 0, 3, 4, 4, 4, 0, 4, 1, 1, 0, 4, 0, 0, 4, 3,\n",
       "       4, 4, 0, 0, 4, 4, 4, 4, 0, 4, 4, 4, 4, 4, 3, 3, 4, 4, 4, 0, 4, 1, 0,\n",
       "       5, 4, 0, 4, 4, 4, 1, 6, 6, 0, 7, 3, 5, 0, 4, 0, 4, 0, 4, 1, 1, 4, 4,\n",
       "       4, 0, 3, 1, 4, 4, 0, 7, 0, 0, 1, 4, 1, 4, 3, 1, 4, 0, 0, 5, 4, 4, 4,\n",
       "       4, 4, 4, 4, 4, 4, 0, 4, 4, 4, 4, 7, 4, 4, 4, 0, 0, 4, 4, 4, 4, 3, 4,\n",
       "       4, 3, 7, 4, 4, 1, 0, 3, 4, 5, 4, 4, 5, 4, 4, 7, 4, 3, 7, 4, 4, 4, 6,\n",
       "       4, 4, 6, 4, 4, 4, 0, 4, 4, 4, 4, 4, 4, 4, 0, 4, 0, 4, 0, 4, 4, 3, 4,\n",
       "       4, 4, 0, 4, 4, 0, 4, 4, 4, 4, 0, 4, 0, 0, 4, 4, 0, 4, 0, 4, 7, 6, 0,\n",
       "       0, 5, 4, 0, 4, 4, 4, 4, 3, 0, 0, 0, 0, 0, 0, 0, 3, 4, 4, 0, 7, 4, 4,\n",
       "       0, 4, 0, 4, 4, 4, 4, 0, 4, 0, 4, 4, 0, 4, 4, 7, 0, 4, 4, 4, 7, 4, 4,\n",
       "       4, 3, 0, 3, 0, 4, 4, 0, 4, 0, 7, 4, 4, 3, 4, 1, 4, 4, 4, 4, 4, 3, 6,\n",
       "       0, 0, 0, 7, 4, 4, 0, 7, 4, 0, 4, 0, 0, 4, 3, 4, 4, 7, 4, 4, 4, 5, 4,\n",
       "       4, 0, 4, 4, 0, 4, 0, 0, 6, 4, 7, 3, 0, 0, 0, 6, 0, 0, 4, 0, 0, 6, 0,\n",
       "       4, 4, 4, 0, 0, 5, 3, 4, 4, 4, 4, 4, 4, 0, 4, 0, 4, 4, 4, 7, 0, 4, 4,\n",
       "       4, 4, 7, 4, 4, 0, 6, 0, 0, 4, 3, 4, 3, 4, 4, 4, 3, 4, 4, 0, 0, 0, 4,\n",
       "       4, 7, 0, 4, 7, 4, 0, 4, 4, 0, 7, 1, 0, 4, 4, 4, 4, 7, 4, 4, 0, 4, 4,\n",
       "       7, 4, 4, 4, 0, 4, 3, 4, 4, 0, 4, 0, 4, 0, 4, 4, 0, 0, 4, 4, 3, 0, 7,\n",
       "       0, 3, 4, 0, 4, 4, 4, 0, 4, 4, 4, 3, 4, 4, 4, 6, 1, 4, 0, 4, 4, 3, 4,\n",
       "       4, 4, 7, 0, 7, 4, 4, 4, 4, 4, 4, 7, 2, 4, 3, 4, 7, 0, 7, 0, 4, 4, 5,\n",
       "       7, 4, 7, 4, 0, 4, 4, 4, 6, 4, 5, 0, 4, 4, 4, 0, 4, 0, 1, 4, 7, 0, 7,\n",
       "       4, 4, 4, 5, 4, 4, 4, 0, 4, 4, 4, 7, 4, 0, 4, 0, 4, 5, 0, 4, 4, 4, 4,\n",
       "       0, 2, 4, 4, 0, 3, 5, 4, 4, 3, 0, 4, 7, 4, 0, 4, 4, 4, 7, 4, 4, 4, 4,\n",
       "       3, 4, 4, 4, 6, 4, 3, 0, 4, 0, 4, 4, 4, 4, 4, 0, 4, 4, 4, 4, 5, 4, 7,\n",
       "       0, 0, 4, 4, 4, 0, 0, 3, 4, 0, 3, 0, 4, 4, 0, 4, 4, 0, 4, 0, 6, 4, 4,\n",
       "       4, 4, 4, 4, 7, 4, 0, 4, 0, 4, 4, 4, 0, 4, 0, 3, 4, 4, 4, 0, 4, 7, 0,\n",
       "       4, 3, 4, 0, 4, 4, 4, 3, 4, 4, 7, 0, 4, 4, 0, 4, 4, 4, 3, 4, 0, 3, 0,\n",
       "       4, 4, 0, 0, 4, 1, 0, 0, 4, 4, 4, 0, 3, 4, 4, 4, 7, 4, 4, 4, 7, 4, 4,\n",
       "       0, 4, 4, 4, 4, 3, 0, 4, 4, 4, 4, 0, 4, 0, 0, 0, 4], dtype=int32)"
      ]
     },
     "execution_count": 33,
     "metadata": {},
     "output_type": "execute_result"
    }
   ],
   "source": [
    "kmc.fit_predict(numeric_features(titanic))\n"
   ]
  },
  {
   "cell_type": "code",
   "execution_count": 34,
   "metadata": {
    "collapsed": true
   },
   "outputs": [],
   "source": [
    "def dummies2(df):\n",
    "    cols = [ 'Embarked','Deck', 'Title', 'Ticketnum']\n",
    "    return pd.get_dummies(df[cols], columns=cols)\n",
    "dummies_tf2 = FunctionTransformer(dummies2, validate=False)\n",
    "def numeric_features2(df):\n",
    "    return df[['Pclass', 'IsFemale',\n",
    "       'AgeBand',  'Ticketnum']]\n",
    "def kclass (df):\n",
    "    df['Kclass'] =kmc.fit_predict(numeric_features(df))\n",
    "    return df['Kclass']\n",
    "kclass_tf= FunctionTransformer(kclass,validate=False)\n",
    "numeric_features_tf2 = FunctionTransformer(numeric_features2, validate=False)"
   ]
  },
  {
   "cell_type": "code",
   "execution_count": 35,
   "metadata": {
    "collapsed": true
   },
   "outputs": [],
   "source": [
    "survive_transformers = [('numfeat' ,numeric_features_tf),('dummies' ,dummies_tf2)]"
   ]
  },
  {
   "cell_type": "code",
   "execution_count": 36,
   "metadata": {},
   "outputs": [
    {
     "data": {
      "text/plain": [
       "0      0\n",
       "1      6\n",
       "2      0\n",
       "3      4\n",
       "4      0\n",
       "5      0\n",
       "6      4\n",
       "7      5\n",
       "8      0\n",
       "9      5\n",
       "10     0\n",
       "11     5\n",
       "12     0\n",
       "13     5\n",
       "14     0\n",
       "15     0\n",
       "16     5\n",
       "17     0\n",
       "18     0\n",
       "19     0\n",
       "20     5\n",
       "21     0\n",
       "22     0\n",
       "23     5\n",
       "24     5\n",
       "25     5\n",
       "26     0\n",
       "27     1\n",
       "28     0\n",
       "29     0\n",
       "      ..\n",
       "861    0\n",
       "862    5\n",
       "863    6\n",
       "864    0\n",
       "865    0\n",
       "866    0\n",
       "867    4\n",
       "868    0\n",
       "869    0\n",
       "870    0\n",
       "871    4\n",
       "872    0\n",
       "873    0\n",
       "874    5\n",
       "875    0\n",
       "876    0\n",
       "877    0\n",
       "878    0\n",
       "879    6\n",
       "880    5\n",
       "881    0\n",
       "882    0\n",
       "883    0\n",
       "884    0\n",
       "885    5\n",
       "886    0\n",
       "887    5\n",
       "888    5\n",
       "889    5\n",
       "890    0\n",
       "Name: Kclass, Length: 891, dtype: int32"
      ]
     },
     "execution_count": 36,
     "metadata": {},
     "output_type": "execute_result"
    }
   ],
   "source": [
    "kclass_tf.fit_transform(titanic)"
   ]
  },
  {
   "cell_type": "code",
   "execution_count": 37,
   "metadata": {
    "collapsed": true
   },
   "outputs": [],
   "source": [
    "prep_for_tensor=  FeatureUnion(survive_transformers)"
   ]
  },
  {
   "cell_type": "code",
   "execution_count": 38,
   "metadata": {
    "collapsed": true
   },
   "outputs": [],
   "source": [
    "pca = PCA(n_components=30)\n",
    "knc = KNeighborsClassifier()"
   ]
  },
  {
   "cell_type": "code",
   "execution_count": 39,
   "metadata": {
    "collapsed": true
   },
   "outputs": [],
   "source": [
    "survive_pipe_kn =  Pipeline([('prep',prep_for_tensor),('ss',ss),('pca',pca)])\n"
   ]
  },
  {
   "cell_type": "code",
   "execution_count": 40,
   "metadata": {},
   "outputs": [
    {
     "data": {
      "text/html": [
       "<div>\n",
       "<style>\n",
       "    .dataframe thead tr:only-child th {\n",
       "        text-align: right;\n",
       "    }\n",
       "\n",
       "    .dataframe thead th {\n",
       "        text-align: left;\n",
       "    }\n",
       "\n",
       "    .dataframe tbody tr th {\n",
       "        vertical-align: top;\n",
       "    }\n",
       "</style>\n",
       "<table border=\"1\" class=\"dataframe\">\n",
       "  <thead>\n",
       "    <tr style=\"text-align: right;\">\n",
       "      <th></th>\n",
       "      <th>Survived</th>\n",
       "      <th>Pclass</th>\n",
       "      <th>Name</th>\n",
       "      <th>Sex</th>\n",
       "      <th>Age</th>\n",
       "      <th>SibSp</th>\n",
       "      <th>Parch</th>\n",
       "      <th>Ticket</th>\n",
       "      <th>Fare</th>\n",
       "      <th>Cabin</th>\n",
       "      <th>...</th>\n",
       "      <th>Deck</th>\n",
       "      <th>Title</th>\n",
       "      <th>Ticketnum</th>\n",
       "      <th>cluster</th>\n",
       "      <th>AgeBand</th>\n",
       "      <th>Dead_Husband</th>\n",
       "      <th>Live_Husband</th>\n",
       "      <th>Dead_Wife</th>\n",
       "      <th>Live_Wife</th>\n",
       "      <th>Kclass</th>\n",
       "    </tr>\n",
       "  </thead>\n",
       "  <tbody>\n",
       "    <tr>\n",
       "      <th>0</th>\n",
       "      <td>0</td>\n",
       "      <td>3</td>\n",
       "      <td>Braund, Mr. Owen Harris</td>\n",
       "      <td>male</td>\n",
       "      <td>22</td>\n",
       "      <td>1</td>\n",
       "      <td>0</td>\n",
       "      <td>A/5 21171</td>\n",
       "      <td>7.2500</td>\n",
       "      <td>?</td>\n",
       "      <td>...</td>\n",
       "      <td>?</td>\n",
       "      <td>Mr.</td>\n",
       "      <td>2</td>\n",
       "      <td>0</td>\n",
       "      <td>2</td>\n",
       "      <td>0.0</td>\n",
       "      <td>0.0</td>\n",
       "      <td>0.0</td>\n",
       "      <td>0.0</td>\n",
       "      <td>0</td>\n",
       "    </tr>\n",
       "    <tr>\n",
       "      <th>1</th>\n",
       "      <td>1</td>\n",
       "      <td>1</td>\n",
       "      <td>Cumings, Mrs. John Bradley (Florence Briggs Th...</td>\n",
       "      <td>female</td>\n",
       "      <td>38</td>\n",
       "      <td>1</td>\n",
       "      <td>0</td>\n",
       "      <td>PC 17599</td>\n",
       "      <td>71.2833</td>\n",
       "      <td>C85</td>\n",
       "      <td>...</td>\n",
       "      <td>C</td>\n",
       "      <td>Mrs.</td>\n",
       "      <td>1</td>\n",
       "      <td>5</td>\n",
       "      <td>3</td>\n",
       "      <td>0.0</td>\n",
       "      <td>0.0</td>\n",
       "      <td>0.0</td>\n",
       "      <td>0.0</td>\n",
       "      <td>6</td>\n",
       "    </tr>\n",
       "    <tr>\n",
       "      <th>2</th>\n",
       "      <td>1</td>\n",
       "      <td>3</td>\n",
       "      <td>Heikkinen, Miss. Laina</td>\n",
       "      <td>female</td>\n",
       "      <td>26</td>\n",
       "      <td>0</td>\n",
       "      <td>0</td>\n",
       "      <td>STON/O2. 3101282</td>\n",
       "      <td>7.9250</td>\n",
       "      <td>?</td>\n",
       "      <td>...</td>\n",
       "      <td>?</td>\n",
       "      <td>Miss</td>\n",
       "      <td>3</td>\n",
       "      <td>0</td>\n",
       "      <td>3</td>\n",
       "      <td>0.0</td>\n",
       "      <td>0.0</td>\n",
       "      <td>0.0</td>\n",
       "      <td>0.0</td>\n",
       "      <td>0</td>\n",
       "    </tr>\n",
       "    <tr>\n",
       "      <th>3</th>\n",
       "      <td>1</td>\n",
       "      <td>1</td>\n",
       "      <td>Futrelle, Mrs. Jacques Heath (Lily May Peel)</td>\n",
       "      <td>female</td>\n",
       "      <td>35</td>\n",
       "      <td>1</td>\n",
       "      <td>0</td>\n",
       "      <td>113803</td>\n",
       "      <td>53.1000</td>\n",
       "      <td>C123</td>\n",
       "      <td>...</td>\n",
       "      <td>C</td>\n",
       "      <td>Mrs.</td>\n",
       "      <td>1</td>\n",
       "      <td>4</td>\n",
       "      <td>3</td>\n",
       "      <td>1.0</td>\n",
       "      <td>0.0</td>\n",
       "      <td>0.0</td>\n",
       "      <td>0.0</td>\n",
       "      <td>4</td>\n",
       "    </tr>\n",
       "    <tr>\n",
       "      <th>4</th>\n",
       "      <td>0</td>\n",
       "      <td>3</td>\n",
       "      <td>Allen, Mr. William Henry</td>\n",
       "      <td>male</td>\n",
       "      <td>35</td>\n",
       "      <td>0</td>\n",
       "      <td>0</td>\n",
       "      <td>373450</td>\n",
       "      <td>8.0500</td>\n",
       "      <td>?</td>\n",
       "      <td>...</td>\n",
       "      <td>?</td>\n",
       "      <td>Mr.</td>\n",
       "      <td>3</td>\n",
       "      <td>0</td>\n",
       "      <td>3</td>\n",
       "      <td>0.0</td>\n",
       "      <td>0.0</td>\n",
       "      <td>0.0</td>\n",
       "      <td>0.0</td>\n",
       "      <td>0</td>\n",
       "    </tr>\n",
       "  </tbody>\n",
       "</table>\n",
       "<p>5 rows × 25 columns</p>\n",
       "</div>"
      ],
      "text/plain": [
       "   Survived  Pclass                                               Name  \\\n",
       "0         0       3                            Braund, Mr. Owen Harris   \n",
       "1         1       1  Cumings, Mrs. John Bradley (Florence Briggs Th...   \n",
       "2         1       3                             Heikkinen, Miss. Laina   \n",
       "3         1       1       Futrelle, Mrs. Jacques Heath (Lily May Peel)   \n",
       "4         0       3                           Allen, Mr. William Henry   \n",
       "\n",
       "      Sex Age  SibSp  Parch            Ticket     Fare Cabin   ...   Deck  \\\n",
       "0    male  22      1      0         A/5 21171   7.2500     ?   ...      ?   \n",
       "1  female  38      1      0          PC 17599  71.2833   C85   ...      C   \n",
       "2  female  26      0      0  STON/O2. 3101282   7.9250     ?   ...      ?   \n",
       "3  female  35      1      0            113803  53.1000  C123   ...      C   \n",
       "4    male  35      0      0            373450   8.0500     ?   ...      ?   \n",
       "\n",
       "  Title  Ticketnum  cluster  AgeBand Dead_Husband Live_Husband Dead_Wife  \\\n",
       "0   Mr.          2        0        2          0.0          0.0       0.0   \n",
       "1  Mrs.          1        5        3          0.0          0.0       0.0   \n",
       "2  Miss          3        0        3          0.0          0.0       0.0   \n",
       "3  Mrs.          1        4        3          1.0          0.0       0.0   \n",
       "4   Mr.          3        0        3          0.0          0.0       0.0   \n",
       "\n",
       "   Live_Wife  Kclass  \n",
       "0        0.0       0  \n",
       "1        0.0       6  \n",
       "2        0.0       0  \n",
       "3        0.0       4  \n",
       "4        0.0       0  \n",
       "\n",
       "[5 rows x 25 columns]"
      ]
     },
     "execution_count": 40,
     "metadata": {},
     "output_type": "execute_result"
    }
   ],
   "source": [
    "titanic.head()"
   ]
  },
  {
   "cell_type": "code",
   "execution_count": 41,
   "metadata": {},
   "outputs": [
    {
     "data": {
      "text/plain": [
       "Index(['Survived', 'Pclass', 'Name', 'Sex', 'Age', 'SibSp', 'Parch', 'Ticket',\n",
       "       'Fare', 'Cabin', 'Embarked', 'FamilyCount', 'IsFemale', 'IsMale',\n",
       "       'IsAlone', 'Deck', 'Title', 'Ticketnum', 'cluster', 'AgeBand',\n",
       "       'Dead_Husband', 'Live_Husband', 'Dead_Wife', 'Live_Wife', 'Kclass'],\n",
       "      dtype='object')"
      ]
     },
     "execution_count": 41,
     "metadata": {},
     "output_type": "execute_result"
    }
   ],
   "source": [
    "titanic.columns"
   ]
  },
  {
   "cell_type": "code",
   "execution_count": 42,
   "metadata": {
    "collapsed": true
   },
   "outputs": [],
   "source": [
    "X= survive_pipe_kn.fit_transform(titanic)\n",
    "y= titanic['Survived']"
   ]
  },
  {
   "cell_type": "code",
   "execution_count": 43,
   "metadata": {
    "collapsed": true
   },
   "outputs": [],
   "source": [
    "X_test2 = survive_pipe_kn.fit_transform(testdf)"
   ]
  },
  {
   "cell_type": "code",
   "execution_count": 44,
   "metadata": {},
   "outputs": [
    {
     "data": {
      "text/plain": [
       "Index(['Pclass', 'Name', 'Sex', 'Age', 'SibSp', 'Parch', 'Ticket', 'Fare',\n",
       "       'Cabin', 'Embarked', 'FamilyCount', 'IsFemale', 'IsMale', 'IsAlone',\n",
       "       'Deck', 'Title', 'Ticketnum', 'cluster', 'AgeBand', 'Dead_Husband',\n",
       "       'Live_Husband', 'Dead_Wife', 'Live_Wife'],\n",
       "      dtype='object')"
      ]
     },
     "execution_count": 44,
     "metadata": {},
     "output_type": "execute_result"
    }
   ],
   "source": [
    "testdf.columns"
   ]
  },
  {
   "cell_type": "code",
   "execution_count": 45,
   "metadata": {},
   "outputs": [
    {
     "data": {
      "text/plain": [
       "(418, 30)"
      ]
     },
     "execution_count": 45,
     "metadata": {},
     "output_type": "execute_result"
    }
   ],
   "source": [
    "X_test2.shape"
   ]
  },
  {
   "cell_type": "code",
   "execution_count": 46,
   "metadata": {
    "collapsed": true
   },
   "outputs": [],
   "source": [
    "kf = StratifiedKFold(random_state=2003)"
   ]
  },
  {
   "cell_type": "code",
   "execution_count": 47,
   "metadata": {
    "collapsed": true
   },
   "outputs": [],
   "source": [
    "cols = ['TN1','TN2','TN3']\n",
    "shape = (titanic.shape[0], len(cols))\n",
    "zeros= np.zeros(shape)\n",
    "stacked_train = pd.DataFrame(zeros,columns = cols, index=titanic.index)"
   ]
  },
  {
   "cell_type": "code",
   "execution_count": 48,
   "metadata": {
    "collapsed": true
   },
   "outputs": [],
   "source": [
    "for train_ind,test_ind in kf.split(X,y):\n",
    "    X_train=X[train_ind,:]\n",
    "    X_test=X[test_ind,:]\n",
    "    y_train=y[train_ind]\n",
    "    y_test=y[test_ind]\n",
    "    knc = KNeighborsClassifier()\n",
    "    knc.fit(X_train,y_train)\n",
    "    pred = knc.predict(X_test)\n",
    "    stacked_train.loc[test_ind,'TN1'] = pred\n",
    "    model = LogisticRegression()\n",
    "    model.fit(X_train, y_train)\n",
    "    pred = model.predict(X_test)\n",
    "    stacked_train.loc[test_ind, 'TN2'] = pred\n",
    "    \n",
    "    model = svm.SVC()\n",
    "    model.fit(X_train, y_train)\n",
    "    pred = model.predict(X_test)\n",
    "    stacked_train.loc[test_ind, 'TN3'] = pred\n",
    "\n",
    "    \n",
    "    model = DecisionTreeClassifier(max_depth=1)\n",
    "    model.fit(X_train, y_train)\n",
    "    pred = model.predict(X_test)\n",
    "    stacked_train.loc[test_ind, 'TN4'] = pred\n",
    "\n",
    "    "
   ]
  },
  {
   "cell_type": "code",
   "execution_count": 49,
   "metadata": {},
   "outputs": [
    {
     "data": {
      "text/html": [
       "<div>\n",
       "<style>\n",
       "    .dataframe thead tr:only-child th {\n",
       "        text-align: right;\n",
       "    }\n",
       "\n",
       "    .dataframe thead th {\n",
       "        text-align: left;\n",
       "    }\n",
       "\n",
       "    .dataframe tbody tr th {\n",
       "        vertical-align: top;\n",
       "    }\n",
       "</style>\n",
       "<table border=\"1\" class=\"dataframe\">\n",
       "  <thead>\n",
       "    <tr style=\"text-align: right;\">\n",
       "      <th></th>\n",
       "      <th>TN1</th>\n",
       "      <th>TN2</th>\n",
       "      <th>TN3</th>\n",
       "      <th>TN4</th>\n",
       "    </tr>\n",
       "  </thead>\n",
       "  <tbody>\n",
       "    <tr>\n",
       "      <th>TN1</th>\n",
       "      <td>1.000000</td>\n",
       "      <td>0.762545</td>\n",
       "      <td>0.813757</td>\n",
       "      <td>0.494973</td>\n",
       "    </tr>\n",
       "    <tr>\n",
       "      <th>TN2</th>\n",
       "      <td>0.762545</td>\n",
       "      <td>1.000000</td>\n",
       "      <td>0.918061</td>\n",
       "      <td>0.468042</td>\n",
       "    </tr>\n",
       "    <tr>\n",
       "      <th>TN3</th>\n",
       "      <td>0.813757</td>\n",
       "      <td>0.918061</td>\n",
       "      <td>1.000000</td>\n",
       "      <td>0.474878</td>\n",
       "    </tr>\n",
       "    <tr>\n",
       "      <th>TN4</th>\n",
       "      <td>0.494973</td>\n",
       "      <td>0.468042</td>\n",
       "      <td>0.474878</td>\n",
       "      <td>1.000000</td>\n",
       "    </tr>\n",
       "  </tbody>\n",
       "</table>\n",
       "</div>"
      ],
      "text/plain": [
       "          TN1       TN2       TN3       TN4\n",
       "TN1  1.000000  0.762545  0.813757  0.494973\n",
       "TN2  0.762545  1.000000  0.918061  0.468042\n",
       "TN3  0.813757  0.918061  1.000000  0.474878\n",
       "TN4  0.494973  0.468042  0.474878  1.000000"
      ]
     },
     "execution_count": 49,
     "metadata": {},
     "output_type": "execute_result"
    }
   ],
   "source": [
    "stacked_train.corr()"
   ]
  },
  {
   "cell_type": "code",
   "execution_count": 50,
   "metadata": {},
   "outputs": [
    {
     "data": {
      "text/plain": [
       "GridSearchCV(cv=None, error_score='raise',\n",
       "       estimator=AdaBoostClassifier(algorithm='SAMME.R', base_estimator=None,\n",
       "          learning_rate=1.0, n_estimators=50, random_state=None),\n",
       "       fit_params={}, iid=True, n_jobs=1, param_grid={},\n",
       "       pre_dispatch='2*n_jobs', refit=True, return_train_score=True,\n",
       "       scoring=None, verbose=0)"
      ]
     },
     "execution_count": 50,
     "metadata": {},
     "output_type": "execute_result"
    }
   ],
   "source": [
    "stacked_modle = AdaBoostClassifier()\n",
    "params = {}\n",
    "gs = GridSearchCV(stacked_modle, param_grid=params)\n",
    "gs.fit(stacked_train,y)\n"
   ]
  },
  {
   "cell_type": "code",
   "execution_count": 51,
   "metadata": {},
   "outputs": [
    {
     "data": {
      "text/plain": [
       "0.97306397306397308"
      ]
     },
     "execution_count": 51,
     "metadata": {},
     "output_type": "execute_result"
    }
   ],
   "source": [
    "gs.best_score_"
   ]
  },
  {
   "cell_type": "code",
   "execution_count": 52,
   "metadata": {},
   "outputs": [
    {
     "data": {
      "text/plain": [
       "DecisionTreeClassifier(class_weight=None, criterion='gini', max_depth=1,\n",
       "            max_features=None, max_leaf_nodes=None,\n",
       "            min_impurity_split=1e-07, min_samples_leaf=1,\n",
       "            min_samples_split=2, min_weight_fraction_leaf=0.0,\n",
       "            presort=False, random_state=None, splitter='best')"
      ]
     },
     "execution_count": 52,
     "metadata": {},
     "output_type": "execute_result"
    }
   ],
   "source": [
    "knc = KNeighborsClassifier()\n",
    "lr = LogisticRegression()\n",
    "svc = svm.SVC()\n",
    "dtc = DecisionTreeClassifier(max_depth=1)\n",
    "knc.fit(X,y)\n",
    "lr.fit(X,y)\n",
    "svc.fit(X,y)\n",
    "dtc.fit(X,y)\n"
   ]
  },
  {
   "cell_type": "code",
   "execution_count": 53,
   "metadata": {},
   "outputs": [
    {
     "data": {
      "text/html": [
       "<div>\n",
       "<style>\n",
       "    .dataframe thead tr:only-child th {\n",
       "        text-align: right;\n",
       "    }\n",
       "\n",
       "    .dataframe thead th {\n",
       "        text-align: left;\n",
       "    }\n",
       "\n",
       "    .dataframe tbody tr th {\n",
       "        vertical-align: top;\n",
       "    }\n",
       "</style>\n",
       "<table border=\"1\" class=\"dataframe\">\n",
       "  <thead>\n",
       "    <tr style=\"text-align: right;\">\n",
       "      <th></th>\n",
       "      <th>TN1</th>\n",
       "      <th>TN2</th>\n",
       "      <th>TN3</th>\n",
       "    </tr>\n",
       "  </thead>\n",
       "  <tbody>\n",
       "    <tr>\n",
       "      <th>0</th>\n",
       "      <td>0.0</td>\n",
       "      <td>0.0</td>\n",
       "      <td>0.0</td>\n",
       "    </tr>\n",
       "    <tr>\n",
       "      <th>1</th>\n",
       "      <td>0.0</td>\n",
       "      <td>0.0</td>\n",
       "      <td>0.0</td>\n",
       "    </tr>\n",
       "    <tr>\n",
       "      <th>2</th>\n",
       "      <td>0.0</td>\n",
       "      <td>0.0</td>\n",
       "      <td>0.0</td>\n",
       "    </tr>\n",
       "    <tr>\n",
       "      <th>3</th>\n",
       "      <td>0.0</td>\n",
       "      <td>0.0</td>\n",
       "      <td>0.0</td>\n",
       "    </tr>\n",
       "    <tr>\n",
       "      <th>4</th>\n",
       "      <td>0.0</td>\n",
       "      <td>0.0</td>\n",
       "      <td>0.0</td>\n",
       "    </tr>\n",
       "  </tbody>\n",
       "</table>\n",
       "</div>"
      ],
      "text/plain": [
       "   TN1  TN2  TN3\n",
       "0  0.0  0.0  0.0\n",
       "1  0.0  0.0  0.0\n",
       "2  0.0  0.0  0.0\n",
       "3  0.0  0.0  0.0\n",
       "4  0.0  0.0  0.0"
      ]
     },
     "execution_count": 53,
     "metadata": {},
     "output_type": "execute_result"
    }
   ],
   "source": [
    "shape = (testdf.shape[0], 3)\n",
    "zeros = np.zeros(shape)\n",
    "stacked_test = pd.DataFrame(zeros, index=testdf.index, columns=cols)\n",
    "stacked_test.head()"
   ]
  },
  {
   "cell_type": "code",
   "execution_count": 54,
   "metadata": {},
   "outputs": [
    {
     "data": {
      "text/plain": [
       "(418, 23)"
      ]
     },
     "execution_count": 54,
     "metadata": {},
     "output_type": "execute_result"
    }
   ],
   "source": [
    "testdf.shape"
   ]
  },
  {
   "cell_type": "code",
   "execution_count": 55,
   "metadata": {
    "collapsed": true
   },
   "outputs": [],
   "source": [
    "stacked_test['TN2']= lr.predict(X_test2)"
   ]
  },
  {
   "cell_type": "code",
   "execution_count": 56,
   "metadata": {
    "collapsed": true
   },
   "outputs": [],
   "source": [
    "stacked_test['TN3']= svc.predict(X_test2)"
   ]
  },
  {
   "cell_type": "code",
   "execution_count": 57,
   "metadata": {
    "collapsed": true
   },
   "outputs": [],
   "source": [
    "stacked_test['TN1']= knc.predict(X_test2)"
   ]
  },
  {
   "cell_type": "code",
   "execution_count": 58,
   "metadata": {
    "collapsed": true
   },
   "outputs": [],
   "source": [
    "stacked_test['TN4']= dtc.predict(X_test2)"
   ]
  },
  {
   "cell_type": "code",
   "execution_count": 59,
   "metadata": {
    "collapsed": true
   },
   "outputs": [],
   "source": [
    "pred2= gs.predict(stacked_test)"
   ]
  },
  {
   "cell_type": "code",
   "execution_count": 60,
   "metadata": {},
   "outputs": [
    {
     "data": {
      "text/plain": [
       "(418,)"
      ]
     },
     "execution_count": 60,
     "metadata": {},
     "output_type": "execute_result"
    }
   ],
   "source": [
    "pred2.shape"
   ]
  },
  {
   "cell_type": "code",
   "execution_count": 61,
   "metadata": {
    "collapsed": true
   },
   "outputs": [],
   "source": [
    "testdf = pd.read_csv('test.csv')"
   ]
  },
  {
   "cell_type": "code",
   "execution_count": 62,
   "metadata": {},
   "outputs": [
    {
     "data": {
      "text/plain": [
       "(418, 11)"
      ]
     },
     "execution_count": 62,
     "metadata": {},
     "output_type": "execute_result"
    }
   ],
   "source": [
    "testdf.shape"
   ]
  },
  {
   "cell_type": "code",
   "execution_count": 63,
   "metadata": {
    "collapsed": true
   },
   "outputs": [],
   "source": [
    "submissionnew  = pd.DataFrame({'Survived':pred2}, index=testdf.PassengerId.values)"
   ]
  },
  {
   "cell_type": "code",
   "execution_count": 64,
   "metadata": {
    "collapsed": true
   },
   "outputs": [],
   "source": [
    "submissionnew.to_csv('skenkeltitanic.csv', index_label='PassengerId')"
   ]
  },
  {
   "cell_type": "code",
   "execution_count": 65,
   "metadata": {},
   "outputs": [
    {
     "data": {
      "text/html": [
       "<div>\n",
       "<style>\n",
       "    .dataframe thead tr:only-child th {\n",
       "        text-align: right;\n",
       "    }\n",
       "\n",
       "    .dataframe thead th {\n",
       "        text-align: left;\n",
       "    }\n",
       "\n",
       "    .dataframe tbody tr th {\n",
       "        vertical-align: top;\n",
       "    }\n",
       "</style>\n",
       "<table border=\"1\" class=\"dataframe\">\n",
       "  <thead>\n",
       "    <tr style=\"text-align: right;\">\n",
       "      <th></th>\n",
       "      <th>Survived</th>\n",
       "    </tr>\n",
       "  </thead>\n",
       "  <tbody>\n",
       "    <tr>\n",
       "      <th>892</th>\n",
       "      <td>1</td>\n",
       "    </tr>\n",
       "    <tr>\n",
       "      <th>893</th>\n",
       "      <td>0</td>\n",
       "    </tr>\n",
       "    <tr>\n",
       "      <th>894</th>\n",
       "      <td>1</td>\n",
       "    </tr>\n",
       "    <tr>\n",
       "      <th>895</th>\n",
       "      <td>0</td>\n",
       "    </tr>\n",
       "    <tr>\n",
       "      <th>896</th>\n",
       "      <td>0</td>\n",
       "    </tr>\n",
       "  </tbody>\n",
       "</table>\n",
       "</div>"
      ],
      "text/plain": [
       "     Survived\n",
       "892         1\n",
       "893         0\n",
       "894         1\n",
       "895         0\n",
       "896         0"
      ]
     },
     "execution_count": 65,
     "metadata": {},
     "output_type": "execute_result"
    }
   ],
   "source": [
    "submissionnew.head()"
   ]
  }
 ],
 "metadata": {
  "kernelspec": {
   "display_name": "Python 3",
   "language": "python",
   "name": "python3"
  },
  "language_info": {
   "codemirror_mode": {
    "name": "ipython",
    "version": 3
   },
   "file_extension": ".py",
   "mimetype": "text/x-python",
   "name": "python",
   "nbconvert_exporter": "python",
   "pygments_lexer": "ipython3",
   "version": "3.6.1"
  }
 },
 "nbformat": 4,
 "nbformat_minor": 2
}
