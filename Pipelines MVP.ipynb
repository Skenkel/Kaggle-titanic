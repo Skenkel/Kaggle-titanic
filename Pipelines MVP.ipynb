{
 "cells": [
  {
   "cell_type": "code",
   "execution_count": 1,
   "metadata": {},
   "outputs": [
    {
     "name": "stderr",
     "output_type": "stream",
     "text": [
      "/opt/conda/lib/python3.6/site-packages/statsmodels/compat/pandas.py:56: FutureWarning: The pandas.core.datetools module is deprecated and will be removed in a future version. Please use the pandas.tseries module instead.\n",
      "  from pandas.core import datetools\n"
     ]
    }
   ],
   "source": [
    "import numpy as np\n",
    "import pandas as pd\n",
    "from sklearn.feature_extraction.text import CountVectorizer,TfidfTransformer\n",
    "from sklearn.pipeline import Pipeline, FeatureUnion\n",
    "from sklearn.model_selection import train_test_split, cross_val_score, cross_val_predict\n",
    "from sklearn.metrics import accuracy_score, precision_score, confusion_matrix, classification_report\n",
    "from sklearn.linear_model import LogisticRegression, LinearRegression\n",
    "from sklearn import svm, linear_model\n",
    "from sklearn.model_selection import cross_val_score, GridSearchCV\n",
    "from sklearn.neighbors import KNeighborsClassifier, KNeighborsRegressor\n",
    "from sklearn.preprocessing import StandardScaler,PolynomialFeatures, LabelEncoder,FunctionTransformer\n",
    "import matplotlib.pyplot as plt\n",
    "import pandas as pd\n",
    "import seaborn as sns\n",
    "import statsmodels.api as sm\n",
    "import numpy as np\n",
    "from scipy import stats\n",
    "%matplotlib inline\n",
    "titanic = pd.read_csv('train.csv')\n",
    "testdf = pd.read_csv('test.csv')"
   ]
  },
  {
   "cell_type": "code",
   "execution_count": 2,
   "metadata": {
    "collapsed": true
   },
   "outputs": [],
   "source": [
    "titanic['Cabin'] =titanic['Cabin'].fillna(value='?')\n",
    "titanic['Embarked'] =titanic['Embarked'].fillna(value='S')\n",
    "titanic['Age'] =titanic['Age'].fillna(value='?')\n",
    "testdf['Cabin'] =testdf['Cabin'].fillna(value='?')\n",
    "testdf['Embarked'] =testdf['Embarked'].fillna(value='S')\n",
    "testdf['Age'] =testdf['Age'].fillna(value='?')\n",
    "testdf.loc[152,'Fare']=13.6755 # we fill in the missing fare from the test data here. "
   ]
  },
  {
   "cell_type": "code",
   "execution_count": 3,
   "metadata": {
    "collapsed": true
   },
   "outputs": [],
   "source": [
    "def titlepull(title_string):\n",
    "    title_list = title_string.split()\n",
    "    for possible_title in title_list:\n",
    "        if possible_title[-1] == '.':\n",
    "            return possible_title\n",
    "def cabinpull(cabin_string):\n",
    "    if cabin_string[0]=='?':\n",
    "        return '?'\n",
    "    else:\n",
    "        return cabin_string[0]\n",
    "    "
   ]
  },
  {
   "cell_type": "code",
   "execution_count": 4,
   "metadata": {
    "collapsed": true
   },
   "outputs": [],
   "source": [
    "titanic['Deck']=titanic.Cabin.apply(cabinpull)\n",
    "titanic['Title']= titanic.Name.apply(titlepull)\n",
    "testdf['Deck']=testdf.Cabin.apply(cabinpull)\n",
    "testdf['Title']= testdf.Name.apply(titlepull)"
   ]
  },
  {
   "cell_type": "code",
   "execution_count": 5,
   "metadata": {
    "collapsed": true
   },
   "outputs": [],
   "source": [
    "decks_list = ['?','C','B','D','E','F','A','G','T']"
   ]
  },
  {
   "cell_type": "code",
   "execution_count": 6,
   "metadata": {
    "collapsed": true
   },
   "outputs": [],
   "source": [
    "name_mappings = {\n",
    "    'Dona.':'Royalty',\n",
    "    'Countess.':'Royalty',\n",
    "    'Sir.':'Royalty',\n",
    "    'Jonkheer.':'Royalty',\n",
    "    'Don.':'Royalty',\n",
    "    'Lady.':'Royalty',\n",
    "    'Ms.':'Miss.',\n",
    "    'Col.':'Officer',\n",
    "    'Capt.':'Officer',\n",
    "    'Major.':'Officer',\n",
    "    'Col.':'Officer',\n",
    "    'Mlle.':'Miss.',\n",
    "    'Mme.':'Mrs.',\n",
    "    'Mrs.':'Mrs.',\n",
    "    'Miss.':'Miss',\n",
    "    'Mr.':'Mr.',\n",
    "    'Master.':'Master.',\n",
    "    'Dr.':'Dr.',\n",
    "    'Rev.':'Rev.'\n",
    "    \n",
    "    \n",
    "}"
   ]
  },
  {
   "cell_type": "code",
   "execution_count": 7,
   "metadata": {
    "collapsed": true
   },
   "outputs": [],
   "source": [
    "titanic['Title'].map(name_mappings, )\n",
    "\n",
    "titanic['Title']= titanic['Title'].map(name_mappings)\n",
    "testdf['Title']= testdf['Title'].map(name_mappings)"
   ]
  },
  {
   "cell_type": "code",
   "execution_count": 8,
   "metadata": {
    "collapsed": true
   },
   "outputs": [],
   "source": [
    "validtitles = list(set(name_mappings.values()))"
   ]
  },
  {
   "cell_type": "code",
   "execution_count": 9,
   "metadata": {
    "collapsed": true
   },
   "outputs": [],
   "source": [
    "titanic.Title = titanic['Title'].astype(\"category\", categories=validtitles, ordered=False)"
   ]
  },
  {
   "cell_type": "code",
   "execution_count": 10,
   "metadata": {
    "collapsed": true
   },
   "outputs": [],
   "source": [
    "testdf.Title = testdf['Title'].astype(\"category\", categories=validtitles, ordered=False)"
   ]
  },
  {
   "cell_type": "code",
   "execution_count": 11,
   "metadata": {
    "collapsed": true
   },
   "outputs": [],
   "source": [
    "titanic.Deck = titanic['Deck'].astype(\"category\", categories=decks_list, ordered=False)"
   ]
  },
  {
   "cell_type": "code",
   "execution_count": 12,
   "metadata": {
    "collapsed": true
   },
   "outputs": [],
   "source": [
    "testdf.Deck = testdf['Deck'].astype(\"category\", categories=decks_list, ordered=False)"
   ]
  },
  {
   "cell_type": "code",
   "execution_count": null,
   "metadata": {
    "collapsed": true
   },
   "outputs": [],
   "source": []
  }
 ],
 "metadata": {
  "kernelspec": {
   "display_name": "Python 3",
   "language": "python",
   "name": "python3"
  },
  "language_info": {
   "codemirror_mode": {
    "name": "ipython",
    "version": 3
   },
   "file_extension": ".py",
   "mimetype": "text/x-python",
   "name": "python",
   "nbconvert_exporter": "python",
   "pygments_lexer": "ipython3",
   "version": "3.6.1"
  }
 },
 "nbformat": 4,
 "nbformat_minor": 2
}
